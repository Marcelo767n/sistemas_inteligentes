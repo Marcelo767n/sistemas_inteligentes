{
  "nbformat": 4,
  "nbformat_minor": 0,
  "metadata": {
    "colab": {
      "provenance": []
    },
    "kernelspec": {
      "name": "python3",
      "display_name": "Python 3"
    },
    "language_info": {
      "name": "python"
    }
  },
  "cells": [
    {
      "cell_type": "code",
      "execution_count": 1,
      "metadata": {
        "id": "UgSx_HG5KKkI"
      },
      "outputs": [],
      "source": [
        "import numpy as np\n",
        "import matplotlib.pyplot as plt\n",
        "import pandas as pd\n",
        "from sklearn.impute import SimpleImputer\n",
        "from sklearn.compose import ColumnTransformer\n",
        "from sklearn.preprocessing import OneHotEncoder, LabelEncoder, StandardScaler\n",
        "from sklearn.model_selection import train_test_split\n",
        "#cargar el documento de datos\n",
        "dataset = pd.read_csv('insurance.csv')\n"
      ]
    },
    {
      "cell_type": "code",
      "source": [
        "#cargar el documento de datos\n",
        "dataset = pd.read_csv('insurance.csv')\n",
        "print(dataset)"
      ],
      "metadata": {
        "colab": {
          "base_uri": "https://localhost:8080/"
        },
        "id": "nPWWmWE0MRJy",
        "outputId": "5283d2e0-3144-4454-b785-c3cd89128fa2"
      },
      "execution_count": 2,
      "outputs": [
        {
          "output_type": "stream",
          "name": "stdout",
          "text": [
            "      age     sex     bmi  children smoker     region      charges\n",
            "0      19  female  27.900         0    yes  southwest  16884.92400\n",
            "1      18    male  33.770         1     no  southeast   1725.55230\n",
            "2      28    male  33.000         3     no  southeast   4449.46200\n",
            "3      33    male  22.705         0     no  northwest  21984.47061\n",
            "4      32    male  28.880         0     no  northwest   3866.85520\n",
            "...   ...     ...     ...       ...    ...        ...          ...\n",
            "1333   50    male  30.970         3     no  northwest  10600.54830\n",
            "1334   18  female  31.920         0     no  northeast   2205.98080\n",
            "1335   18  female  36.850         0     no  southeast   1629.83350\n",
            "1336   21  female  25.800         0     no  southwest   2007.94500\n",
            "1337   61  female  29.070         0    yes  northwest  29141.36030\n",
            "\n",
            "[1338 rows x 7 columns]\n"
          ]
        }
      ]
    },
    {
      "cell_type": "code",
      "source": [
        "#seprarar caracteristicas (x) y variable objetivo (y)\n",
        "X = dataset.iloc[:, :-1].values\n",
        "Y = dataset.iloc[:, -1].values\n"
      ],
      "metadata": {
        "id": "90_OI6DlMc9r"
      },
      "execution_count": 4,
      "outputs": []
    },
    {
      "cell_type": "code",
      "source": [
        "#verificacion de valores nulos por columna\n",
        "print(dataset.isnull().sum())\n",
        "#imputacion de los valores faltantes en numericos\n",
        "#imputer = SimpleImputer(missing_values=np.nan, strategy='mean')\n",
        "#imputer.fit(X[:,[0,2,3]]) #columnas numericas\n",
        "#X[:, [0, 2, 3]] = imputer.transform(X[:, [0, 2, 3]])\n",
        "#print(X)\n",
        "\n"
      ],
      "metadata": {
        "colab": {
          "base_uri": "https://localhost:8080/"
        },
        "id": "s0i26gQ9OyQ-",
        "outputId": "bdec1599-4992-43bb-bf33-1647726d2c98"
      },
      "execution_count": 15,
      "outputs": [
        {
          "output_type": "stream",
          "name": "stdout",
          "text": [
            "age         0\n",
            "sex         0\n",
            "bmi         0\n",
            "children    0\n",
            "smoker      0\n",
            "region      0\n",
            "charges     0\n",
            "dtype: int64\n"
          ]
        }
      ]
    },
    {
      "cell_type": "code",
      "source": [
        "df_numeric = pd.DataFrame(X[:, [0, 2, 3]], columns=['age', 'bmi', 'children'])\n",
        "for column in df_numeric.columns:\n",
        "  Q1 = df_numeric[column].quantile(0.25)\n",
        "  Q3 = df_numeric[column].quantile(0.75)\n",
        "  IQR = Q3 - Q1\n",
        "  lower_bound = Q1 - 1.5 * IQR\n",
        "  upper_bound = Q3 + 1.5 * IQR\n",
        "  #capear los valores fuera de los limites\n",
        "  df_numeric[column] = np.clip(df_numeric[column], lower_bound, upper_bound)\n",
        "  #actualizar los valores de x sin los outliers\n",
        "X[:, [0, 2, 3]] = df_numeric.values\n",
        "print(df_numeric)"
      ],
      "metadata": {
        "colab": {
          "base_uri": "https://localhost:8080/"
        },
        "id": "r4EcyEqRQ8z4",
        "outputId": "8d35685b-4d65-4ecf-803c-2f23e0afc6a1"
      },
      "execution_count": 19,
      "outputs": [
        {
          "output_type": "stream",
          "name": "stdout",
          "text": [
            "      age  bmi children\n",
            "0     1.0  1.0      0.0\n",
            "1     0.0  1.0      0.0\n",
            "2     0.0  1.0      0.0\n",
            "3     0.0  1.0      0.0\n",
            "4     0.0  1.0      0.0\n",
            "...   ...  ...      ...\n",
            "1333  0.0  1.0      0.0\n",
            "1334  1.0  1.0      0.0\n",
            "1335  1.0  1.0      0.0\n",
            "1336  1.0  1.0      0.0\n",
            "1337  1.0  1.0      0.0\n",
            "\n",
            "[1338 rows x 3 columns]\n"
          ]
        }
      ]
    },
    {
      "cell_type": "code",
      "source": [
        "#codificacion para las columnas categoricas\n",
        "ct =ColumnTransformer(transformers=[('encoder', OneHotEncoder(), [5])], remainder='passthrough')\n",
        "X = np.array(ct.fit_transform(X))\n",
        "le_sex = LabelEncoder()\n",
        "X[:, 1] = le_sex.fit_transform(X[:, 1])   # columna sex\n",
        "le_smoker = LabelEncoder()\n",
        "X[:, 4] = le_smoker.fit_transform(X[:, 4])  # columna smoker\n",
        "print(X)\n"
      ],
      "metadata": {
        "colab": {
          "base_uri": "https://localhost:8080/"
        },
        "id": "IpVHPuY4TJfG",
        "outputId": "aaf62fe3-24ee-436c-fe31-30d84f588193"
      },
      "execution_count": 23,
      "outputs": [
        {
          "output_type": "stream",
          "name": "stdout",
          "text": [
            "[[1.0 0 1.0 ... 19.0 27.9 0.0]\n",
            " [0.0 1 1.0 ... 18.0 33.77 1.0]\n",
            " [0.0 1 1.0 ... 28.0 33.0 3.0]\n",
            " ...\n",
            " [1.0 0 1.0 ... 18.0 36.85 0.0]\n",
            " [1.0 0 1.0 ... 21.0 25.8 0.0]\n",
            " [1.0 0 1.0 ... 61.0 29.07 0.0]]\n"
          ]
        }
      ]
    },
    {
      "cell_type": "code",
      "source": [
        "#division en conjuntos de entrenamiento y prueba\n",
        "X_train, X_test, Y_train, Y_test = train_test_split(X, Y, test_size=0.2, random_state=0)"
      ],
      "metadata": {
        "id": "kJdjH5-5WeGC"
      },
      "execution_count": 26,
      "outputs": []
    },
    {
      "cell_type": "code",
      "source": [
        "#8. escalado de caracteristicas numericas\n",
        "sc = StandardScaler()\n",
        "X_train[:, 9:] = sc.fit_transform(X_train[:, 9:])  # numericas estan desde la columna 9\n",
        "X_test[:, 9:] = sc.transform(X_test[:, 9:])\n",
        "print(\"\\nDimensiones finales:\")\n",
        "print(\"X_train:\", X_train.shape, \"X_test:\", X_test.shape)"
      ],
      "metadata": {
        "colab": {
          "base_uri": "https://localhost:8080/"
        },
        "id": "p5kLRCGKWmat",
        "outputId": "866394d9-30de-4b3a-fd39-3f526395700c"
      },
      "execution_count": 29,
      "outputs": [
        {
          "output_type": "stream",
          "name": "stdout",
          "text": [
            "\n",
            "Dimensiones finales:\n",
            "X_train: (1070, 13) X_test: (268, 13)\n"
          ]
        }
      ]
    }
  ]
}